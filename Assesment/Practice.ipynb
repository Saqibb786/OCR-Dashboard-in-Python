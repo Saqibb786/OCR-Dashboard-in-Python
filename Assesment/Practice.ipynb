{
 "cells": [
  {
   "cell_type": "markdown",
   "metadata": {},
   "source": [
    "Creating an Optical Character Recognition (OCR)\n",
    "\n",
    "project in Python involves several steps:\n",
    "\n",
    "\n",
    "Step 1: Install Required Libraries\n",
    "You'll need to install the following libraries:\n",
    "Tesseract-OCR: This is the main OCR engine. You can install it using pip: pip install pytesseract\n",
    "OpenCV: This is used for image processing. You can install it using pip: pip install opencv-python\n",
    "Pillow: This is used for image handling. You can install it using pip: pip install pillow\n",
    "\n",
    "Step 2: Prepare Your Images\n",
    "Collect the images of text you want to recognize. Make sure they are clear and of good quality.\n",
    "\n",
    "Step 3: Pre-process the Images\n",
    "Use OpenCV to pre-process the images. This may include:\n",
    "Converting to grayscale: cv2.cvtColor(image, cv2.COLOR_BGR2GRAY)\n",
    "Applying thresholding: cv2.threshold(gray, 0, 255, cv2.THRESH_BINARY_INV + cv2.THRESH_OTSU)\n",
    "Removing noise: cv2.medianBlur(thresh, 5)\n",
    "\n",
    "\n",
    "Step 4: Perform OCR\n",
    "Use Tesseract-OCR to perform the OCR. You can do this using the pytesseract library:\n",
    "python."
   ]
  },
  {
   "cell_type": "code",
   "execution_count": 7,
   "metadata": {},
   "outputs": [
    {
     "name": "stderr",
     "output_type": "stream",
     "text": [
      "<>:5: SyntaxWarning: invalid escape sequence '\\I'\n",
      "<>:5: SyntaxWarning: invalid escape sequence '\\I'\n",
      "C:\\Users\\Saqib\\AppData\\Local\\Temp\\ipykernel_3388\\2509593976.py:5: SyntaxWarning: invalid escape sequence '\\I'\n",
      "  img = Image.open('.\\Images\\logos2.jpg')\n"
     ]
    },
    {
     "name": "stdout",
     "output_type": "stream",
     "text": [
      "@ sos &\n",
      "J vodafone Timberland\n",
      "\n",
      "\n"
     ]
    }
   ],
   "source": [
    "import pytesseract\n",
    "from PIL import Image\n",
    "\n",
    "# Open the image\n",
    "img = Image.open('.\\Images\\logos2.jpg')\n",
    "\n",
    "# Perform OCR\n",
    "text = pytesseract.image_to_string(img)\n",
    "\n",
    "print(text)\n"
   ]
  },
  {
   "cell_type": "markdown",
   "metadata": {},
   "source": [
    "\n",
    "Step 5: Post-processing\n",
    "You may want to perform some post-processing on the recognized text, such as:\n",
    "Removing special characters: re.sub(r'[^a-zA-Z0-9\\s]', '', text)\n",
    "Converting to lowercase: text.lower()\n",
    "\n",
    "\n",
    "Step 6: Save the Results\n",
    "Save the recognized text to a file or database.\n",
    "Here's a complete example:\n",
    "python."
   ]
  },
  {
   "cell_type": "code",
   "execution_count": 9,
   "metadata": {},
   "outputs": [
    {
     "name": "stderr",
     "output_type": "stream",
     "text": [
      "<>:7: SyntaxWarning: invalid escape sequence '\\l'\n",
      "<>:7: SyntaxWarning: invalid escape sequence '\\l'\n",
      "C:\\Users\\Saqib\\AppData\\Local\\Temp\\ipykernel_3388\\1838062650.py:7: SyntaxWarning: invalid escape sequence '\\l'\n",
      "  img = cv2.imread('Images\\logos2.jpg')\n"
     ]
    },
    {
     "name": "stdout",
     "output_type": "stream",
     "text": [
      "\n",
      "\n",
      "6\n",
      "vodafone\n",
      "\n",
      "so \n",
      "\n"
     ]
    }
   ],
   "source": [
    "import cv2\n",
    "import pytesseract\n",
    "from PIL import Image\n",
    "import re\n",
    "\n",
    "# Open the image\n",
    "img = cv2.imread('Images\\logos2.jpg')\n",
    "\n",
    "# Convert to grayscale\n",
    "gray = cv2.cvtColor(img, cv2.COLOR_BGR2GRAY)\n",
    "\n",
    "# Apply thresholding\n",
    "thresh = cv2.threshold(gray, 0, 255, cv2.THRESH_BINARY_INV + cv2.THRESH_OTSU)[1]\n",
    "\n",
    "# Remove noise\n",
    "thresh = cv2.medianBlur(thresh, 5)\n",
    "\n",
    "# Save the pre-processed image\n",
    "cv2.imwrite('preprocessed.jpg', thresh)\n",
    "\n",
    "# Perform OCR\n",
    "text = pytesseract.image_to_string(Image.open('preprocessed.jpg'))\n",
    "\n",
    "# Post-processing\n",
    "text = re.sub(r'[^a-zA-Z0-9\\s]', '', text)\n",
    "text = text.lower()\n",
    "\n",
    "print(text)\n",
    "\n",
    "# Save the results\n",
    "with open('output.txt', 'w') as f:\n",
    "    f.write(text)"
   ]
  },
  {
   "cell_type": "markdown",
   "metadata": {},
   "source": [
    "This is a basic example, and you may need to adjust the pre-processing and post-processing steps based on your specific images and requirements.\n",
    "Remember to install Tesseract-OCR on your system and add it to your system's PATH. You can download it from here.\n",
    "\n",
    "Also, make sure to replace 'image.jpg' with the path to your image file.\n",
    "\n",
    "This project can be further enhanced by:\n",
    "\n",
    "Improving image quality: Using techniques like binarization, deskewing, and despeckling.\n",
    "\n",
    "Handling multiple languages: Using Tesseract's language support.\n",
    "Improving accuracy: Using techniques like word recognition, spell checking, and language modeling.\n",
    "\n",
    "Creating a GUI: Using a library like Tkinter or PyQt to create a graphical user interface.\n",
    "Integrating with other tools: Using the recognized text with other tools or applications."
   ]
  },
  {
   "cell_type": "markdown",
   "metadata": {},
   "source": [
    "This will extract the text from the image and print it to the console.\n",
    "To improve the OCR accuracy, you can perform image preprocessing steps like normalization, thresholding, and noise removal using libraries like OpenCV. Here are some common preprocessing steps:\n",
    "\n",
    "Normalization: Adjust the image's brightness and contrast to enhance text visibility.\n",
    "\n",
    "Thresholding: Convert the image to binary format to separate text from the background.\n",
    "\n",
    "Noise Removal: Apply filters to remove small dots or patches that can interfere with OCR.\n",
    "By following these steps, you can effectively convert images to text using OCR techniques in Python."
   ]
  },
  {
   "cell_type": "markdown",
   "metadata": {},
   "source": [
    "The search results provided do not specifically mention tools like \"Easwy OCR\" or other similar OCR tools in Python. However, I can provide you with some popular OCR tools and libraries commonly used in Python for text extraction from images:\n",
    "\n"
   ]
  },
  {
   "cell_type": "markdown",
   "metadata": {},
   "source": [
    "Tesseract OCR: Tesseract is one of the most popular OCR engines and is widely used for text extraction from images. It is open-source and supports multiple languages.\n",
    "\n",
    "\n",
    "Pytesseract: Pytesseract is a Python wrapper for Tesseract OCR engine, making it easy to use Tesseract in Python applications for OCR tasks."
   ]
  },
  {
   "cell_type": "code",
   "execution_count": 13,
   "metadata": {},
   "outputs": [
    {
     "name": "stderr",
     "output_type": "stream",
     "text": [
      "<>:8: SyntaxWarning: invalid escape sequence '\\l'\n",
      "<>:8: SyntaxWarning: invalid escape sequence '\\l'\n",
      "C:\\Users\\Saqib\\AppData\\Local\\Temp\\ipykernel_3388\\2998174579.py:8: SyntaxWarning: invalid escape sequence '\\l'\n",
      "  image = Image.open('Images\\logos2.jpg')\n"
     ]
    },
    {
     "name": "stdout",
     "output_type": "stream",
     "text": [
      "@ sos &\n",
      "J vodafone Timberland\n",
      "\n",
      "\n"
     ]
    }
   ],
   "source": [
    "from PIL import Image\n",
    "import pytesseract\n",
    "\n",
    "# Path to the Tesseract executable\n",
    "pytesseract.pytesseract.tesseract_cmd = r'C:\\Program Files\\Tesseract-OCR\\tesseract.exe'\n",
    "\n",
    "# Load an image from file\n",
    "image = Image.open('Images\\logos2.jpg')\n",
    "\n",
    "# Perform OCR\n",
    "text = pytesseract.image_to_string(image)\n",
    "\n",
    "print(text)"
   ]
  },
  {
   "cell_type": "markdown",
   "metadata": {},
   "source": [
    "EasyOCR: EasyOCR is a deep learning-based OCR library that supports over 100 languages and can detect and recognize text in various fonts and languages."
   ]
  },
  {
   "cell_type": "code",
   "execution_count": 14,
   "metadata": {},
   "outputs": [
    {
     "name": "stderr",
     "output_type": "stream",
     "text": [
      "<>:7: SyntaxWarning: invalid escape sequence '\\l'\n",
      "<>:7: SyntaxWarning: invalid escape sequence '\\l'\n",
      "C:\\Users\\Saqib\\AppData\\Local\\Temp\\ipykernel_3388\\2167826325.py:7: SyntaxWarning: invalid escape sequence '\\l'\n",
      "  result = reader.readtext('Images\\logos2.jpg')\n",
      "C:\\Users\\Saqib\\AppData\\Local\\Temp\\ipykernel_3388\\2167826325.py:7: SyntaxWarning: invalid escape sequence '\\l'\n",
      "  result = reader.readtext('Images\\logos2.jpg')\n"
     ]
    },
    {
     "ename": "ModuleNotFoundError",
     "evalue": "No module named 'easyocr'",
     "output_type": "error",
     "traceback": [
      "\u001b[1;31m---------------------------------------------------------------------------\u001b[0m",
      "\u001b[1;31mModuleNotFoundError\u001b[0m                       Traceback (most recent call last)",
      "Cell \u001b[1;32mIn[14], line 1\u001b[0m\n\u001b[1;32m----> 1\u001b[0m \u001b[38;5;28;01mimport\u001b[39;00m \u001b[38;5;21;01measyocr\u001b[39;00m\n\u001b[0;32m      3\u001b[0m \u001b[38;5;66;03m# Initialize the reader\u001b[39;00m\n\u001b[0;32m      4\u001b[0m reader \u001b[38;5;241m=\u001b[39m easyocr\u001b[38;5;241m.\u001b[39mReader([\u001b[38;5;124m'\u001b[39m\u001b[38;5;124men\u001b[39m\u001b[38;5;124m'\u001b[39m])  \u001b[38;5;66;03m# Supports multiple languages\u001b[39;00m\n",
      "\u001b[1;31mModuleNotFoundError\u001b[0m: No module named 'easyocr'"
     ]
    }
   ],
   "source": [
    "import easyocr\n",
    "\n",
    "# Initialize the reader\n",
    "reader = easyocr.Reader(['en'])  # Supports multiple languages\n",
    "\n",
    "# Read text from image\n",
    "result = reader.readtext('Images\\logos2.jpg')\n",
    "\n",
    "# Extract and print text\n",
    "for detection in result:\n",
    "    print(detection[1])\n"
   ]
  },
  {
   "cell_type": "markdown",
   "metadata": {},
   "source": [
    "OpenCV: OpenCV is a computer vision library that can be used for image processing tasks, including OCR. It provides functions for image manipulation and text extraction."
   ]
  },
  {
   "cell_type": "code",
   "execution_count": 15,
   "metadata": {},
   "outputs": [
    {
     "name": "stderr",
     "output_type": "stream",
     "text": [
      "<>:8: SyntaxWarning: invalid escape sequence '\\l'\n",
      "<>:8: SyntaxWarning: invalid escape sequence '\\l'\n",
      "C:\\Users\\Saqib\\AppData\\Local\\Temp\\ipykernel_3388\\3122780240.py:8: SyntaxWarning: invalid escape sequence '\\l'\n",
      "  image = cv2.imread('Images\\logos2.jpg')\n"
     ]
    },
    {
     "name": "stdout",
     "output_type": "stream",
     "text": [
      ". —4\n",
      "‘Timberland\n",
      "\n",
      "@\n",
      "vodafone\n",
      "\n",
      "oS ®\n",
      "\n",
      "© 8 oO\n",
      "\n"
     ]
    }
   ],
   "source": [
    "import cv2\n",
    "import pytesseract\n",
    "\n",
    "# Path to the Tesseract executable\n",
    "pytesseract.pytesseract.tesseract_cmd = r'C:\\Program Files\\Tesseract-OCR\\tesseract.exe'\n",
    "\n",
    "# Read image with OpenCV\n",
    "image = cv2.imread('Images\\logos2.jpg')\n",
    "\n",
    "# Convert image to grayscale\n",
    "gray_image = cv2.cvtColor(image, cv2.COLOR_BGR2GRAY)\n",
    "\n",
    "# Perform OCR\n",
    "text = pytesseract.image_to_string(gray_image)\n",
    "\n",
    "print(text)\n"
   ]
  },
  {
   "cell_type": "markdown",
   "metadata": {},
   "source": [
    "Google Cloud Vision API: Google Cloud Vision API offers OCR capabilities for extracting text from images. It provides accurate text recognition and supports various languages.\n",
    "While the search results do not mention \"Easwy OCR,\" these tools are widely recognized in the field of OCR and can be used effectively for text extraction from images in Python."
   ]
  }
 ],
 "metadata": {
  "kernelspec": {
   "display_name": "Python 3",
   "language": "python",
   "name": "python3"
  },
  "language_info": {
   "codemirror_mode": {
    "name": "ipython",
    "version": 3
   },
   "file_extension": ".py",
   "mimetype": "text/x-python",
   "name": "python",
   "nbconvert_exporter": "python",
   "pygments_lexer": "ipython3",
   "version": "3.12.2"
  }
 },
 "nbformat": 4,
 "nbformat_minor": 2
}
