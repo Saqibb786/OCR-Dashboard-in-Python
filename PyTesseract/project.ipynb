{
 "cells": [
  {
   "cell_type": "markdown",
   "metadata": {},
   "source": [
    "----------PAGE SEGMENTATION MODES----------\n",
    "\n",
    "O Orientation and script detection (OSD) only\n",
    "\n",
    "1 Automatic page segmentation with OSD. \n",
    "\n",
    "2 Automatic page segmentation, but no OSD, or OCR.\n",
    "\n",
    "3 Fully automatic page segmentation, but no OSD. (Default)\n",
    "\n",
    "4 Assume a single column of text of variable sizes.\n",
    "\n",
    "5 Assume a single uniform block of vertically aligned text.\n",
    "\n",
    "6 Assume a single uniform block of text\n",
    "\n",
    "7 Treat the image as a single text line.\n",
    "\n",
    "8 Treat the image as a single word.\n",
    "\n",
    "9 Treat the image as a single word in a circle.\n",
    "\n",
    "10 Treat the image as a single character.\n",
    "\n",
    "11 Sparse text. Find as much text as possible in no particular order.\n",
    "\n",
    "12 Sparse text with OSD.\n",
    "\n",
    "13 Raw line. Treat the image as a single text line, bypassing hacks that are Tesseract—specific.\n",
    "\n",
    "\n",
    "\n",
    "----------OCR ENGINE MODES----------\n",
    "\n",
    "0 Legacy engine only.\n",
    "\n",
    "1 Neural nets LSTM engine only.\n",
    "\n",
    "2 Legacy + LSTM engines.\n",
    "\n",
    "3 Default, based on what is available."
   ]
  },
  {
   "cell_type": "code",
   "execution_count": 16,
   "metadata": {},
   "outputs": [],
   "source": [
    "#Importing libraries\n",
    "import pytesseract\n",
    "from pytesseract import Output\n",
    "import PIL.Image\n",
    "import cv2"
   ]
  },
  {
   "cell_type": "code",
   "execution_count": 17,
   "metadata": {},
   "outputs": [],
   "source": [
    "# Tesseract configuration\n",
    "myconfig = r\"--psm 11 --oem 3\""
   ]
  },
  {
   "cell_type": "code",
   "execution_count": 18,
   "metadata": {},
   "outputs": [
    {
     "name": "stdout",
     "output_type": "stream",
     "text": [
      "It was the best of\n",
      "\n",
      "times, it was the worst\n",
      "\n",
      "of times, it was the age\n",
      "\n",
      "of wisdom, it was the\n",
      "\n",
      "age of foolishness...\n",
      "\n"
     ]
    }
   ],
   "source": [
    "#image to text conversion simple\n",
    "text = pytesseract.image_to_string(PIL.Image.open(\"Images/text.jpg\"), config=myconfig) # Use a raw string (prefixing the string literal with 'r') to avoid 'SyntaxError' caused by backslashes in file path. This ensures that backslashes are treated as literal characters and not as escape characters. You can also replace single backslashes with double backslashes to resolve the same error\n",
    "print(text)"
   ]
  },
  {
   "cell_type": "code",
   "execution_count": 19,
   "metadata": {},
   "outputs": [],
   "source": [
    "# Read the image file\n",
    "img = cv2.imread(\"Images/text.jpg\")\n",
    "if img is None:\n",
    "    raise FileNotFoundError(\"The image file was not found.\")\n",
    "height, width, _ = img.shape"
   ]
  },
  {
   "cell_type": "code",
   "execution_count": 20,
   "metadata": {},
   "outputs": [],
   "source": [
    "# # To Create boxes around indivisual character in the image \n",
    "# # Get bounding boxes of the text\n",
    "# boxes = pytesseract.image_to_boxes(img, config=myconfig)\n",
    "# # print(boxes)\n",
    "# # Draw bounding boxes on the image\n",
    "# for box in boxes.splitlines():\n",
    "#     box = box.split(\" \")\n",
    "#     img = cv2.rectangle(img, ( (int(box[1])), height - int(box[2]) ), ( (int(box[3])), height - int(box[4]) ), (0, 255, 0), 2)\n",
    "#     #Method-2 \n",
    "#     # x1, y1, x2, y2 = int(box[1]), height - int(box[2]), int(box[3]), height - int(box[4])\n",
    "#     # img = cv2.rectangle(img, (x1, y1), (x2, y2), (0, 255, 0), 2)"
   ]
  },
  {
   "cell_type": "code",
   "execution_count": 21,
   "metadata": {},
   "outputs": [],
   "source": [
    "# To Create boxes around whole words in the image \n",
    "data = pytesseract.image_to_data(img, config=myconfig, output_type=Output.DICT)\n",
    "# print(data['text'])\n",
    "amount_boxes = len(data['text'])\n",
    "for i in range(amount_boxes):\n",
    "    if float(data['conf'][i]) > 80:\n",
    "            x, y, width, height = (data['left'][i], data['top'][i], data['width'][i], data['height'][i])\n",
    "            img = cv2.rectangle(img, (x, y), (x+width, y+height), (0, 255, 0), 2)\n",
    "            img = cv2.putText(img, data['text'][i], (x, y+height+20), cv2.FONT_HERSHEY_SIMPLEX, 0.5, (0, 255, 0), 1, cv2.LINE_AA)"
   ]
  },
  {
   "cell_type": "code",
   "execution_count": 22,
   "metadata": {},
   "outputs": [
    {
     "data": {
      "text/plain": [
       "-1"
      ]
     },
     "execution_count": 22,
     "metadata": {},
     "output_type": "execute_result"
    }
   ],
   "source": [
    "# Display the image with bounding boxes\n",
    "cv2.imshow(\"img\", img)\n",
    "cv2.waitKey(0)"
   ]
  }
 ],
 "metadata": {
  "kernelspec": {
   "display_name": "Python 3",
   "language": "python",
   "name": "python3"
  },
  "language_info": {
   "codemirror_mode": {
    "name": "ipython",
    "version": 3
   },
   "file_extension": ".py",
   "mimetype": "text/x-python",
   "name": "python",
   "nbconvert_exporter": "python",
   "pygments_lexer": "ipython3",
   "version": "3.12.2"
  }
 },
 "nbformat": 4,
 "nbformat_minor": 2
}
